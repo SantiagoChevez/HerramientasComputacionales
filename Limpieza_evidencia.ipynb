{
 "cells": [
  {
   "cell_type": "markdown",
   "metadata": {},
   "source": [
    "# Limpieza de datos \n",
    "## Situacion Problema\n",
    "### Santiago Chevez Trejo A01749887\n",
    "### Jocelyn Ileana Balderas Sánchez A01798528\n",
    "### Emiliano Alberto Celis Montero A01799348"
   ]
  },
  {
   "cell_type": "code",
   "execution_count": 132,
   "metadata": {},
   "outputs": [],
   "source": [
    "import pandas as pd"
   ]
  },
  {
   "cell_type": "code",
   "execution_count": 133,
   "metadata": {},
   "outputs": [
    {
     "data": {
      "text/html": [
       "<div>\n",
       "<style scoped>\n",
       "    .dataframe tbody tr th:only-of-type {\n",
       "        vertical-align: middle;\n",
       "    }\n",
       "\n",
       "    .dataframe tbody tr th {\n",
       "        vertical-align: top;\n",
       "    }\n",
       "\n",
       "    .dataframe thead th {\n",
       "        text-align: right;\n",
       "    }\n",
       "</style>\n",
       "<table border=\"1\" class=\"dataframe\">\n",
       "  <thead>\n",
       "    <tr style=\"text-align: right;\">\n",
       "      <th></th>\n",
       "      <th>2025 Rank</th>\n",
       "      <th>2024 Rank</th>\n",
       "      <th>Institution Name</th>\n",
       "      <th>Location</th>\n",
       "      <th>Location Full</th>\n",
       "      <th>Size</th>\n",
       "      <th>Academic Reputation</th>\n",
       "      <th>Employer Reputation</th>\n",
       "      <th>Faculty Student</th>\n",
       "      <th>Citations per Faculty</th>\n",
       "      <th>International Faculty</th>\n",
       "      <th>International Students</th>\n",
       "      <th>International Research Network</th>\n",
       "      <th>Employment Outcomes</th>\n",
       "      <th>Sustainability</th>\n",
       "      <th>QS Overall Score</th>\n",
       "    </tr>\n",
       "  </thead>\n",
       "  <tbody>\n",
       "    <tr>\n",
       "      <th>0</th>\n",
       "      <td>1</td>\n",
       "      <td>1</td>\n",
       "      <td>Massachusetts Institute of Technology (MIT)</td>\n",
       "      <td>US</td>\n",
       "      <td>United States</td>\n",
       "      <td>M</td>\n",
       "      <td>100.0</td>\n",
       "      <td>100.0</td>\n",
       "      <td>100.0</td>\n",
       "      <td>100.0</td>\n",
       "      <td>99.3</td>\n",
       "      <td>86.8</td>\n",
       "      <td>96.0</td>\n",
       "      <td>100.0</td>\n",
       "      <td>99.0</td>\n",
       "      <td>100</td>\n",
       "    </tr>\n",
       "    <tr>\n",
       "      <th>1</th>\n",
       "      <td>2</td>\n",
       "      <td>6</td>\n",
       "      <td>Imperial College London</td>\n",
       "      <td>UK</td>\n",
       "      <td>United Kingdom</td>\n",
       "      <td>L</td>\n",
       "      <td>98.5</td>\n",
       "      <td>99.5</td>\n",
       "      <td>98.2</td>\n",
       "      <td>93.9</td>\n",
       "      <td>100.0</td>\n",
       "      <td>99.6</td>\n",
       "      <td>97.4</td>\n",
       "      <td>93.4</td>\n",
       "      <td>99.7</td>\n",
       "      <td>98.5</td>\n",
       "    </tr>\n",
       "    <tr>\n",
       "      <th>2</th>\n",
       "      <td>3</td>\n",
       "      <td>3</td>\n",
       "      <td>University of Oxford</td>\n",
       "      <td>UK</td>\n",
       "      <td>United Kingdom</td>\n",
       "      <td>L</td>\n",
       "      <td>100.0</td>\n",
       "      <td>100.0</td>\n",
       "      <td>100.0</td>\n",
       "      <td>84.8</td>\n",
       "      <td>98.1</td>\n",
       "      <td>97.7</td>\n",
       "      <td>100.0</td>\n",
       "      <td>100.0</td>\n",
       "      <td>85.0</td>\n",
       "      <td>96.9</td>\n",
       "    </tr>\n",
       "    <tr>\n",
       "      <th>3</th>\n",
       "      <td>4</td>\n",
       "      <td>4</td>\n",
       "      <td>Harvard University</td>\n",
       "      <td>US</td>\n",
       "      <td>United States</td>\n",
       "      <td>L</td>\n",
       "      <td>100.0</td>\n",
       "      <td>100.0</td>\n",
       "      <td>96.3</td>\n",
       "      <td>100.0</td>\n",
       "      <td>74.1</td>\n",
       "      <td>69.0</td>\n",
       "      <td>99.6</td>\n",
       "      <td>100.0</td>\n",
       "      <td>84.4</td>\n",
       "      <td>96.8</td>\n",
       "    </tr>\n",
       "    <tr>\n",
       "      <th>4</th>\n",
       "      <td>5</td>\n",
       "      <td>2</td>\n",
       "      <td>University of Cambridge</td>\n",
       "      <td>UK</td>\n",
       "      <td>United Kingdom</td>\n",
       "      <td>L</td>\n",
       "      <td>100.0</td>\n",
       "      <td>100.0</td>\n",
       "      <td>100.0</td>\n",
       "      <td>84.6</td>\n",
       "      <td>100.0</td>\n",
       "      <td>94.8</td>\n",
       "      <td>99.3</td>\n",
       "      <td>100.0</td>\n",
       "      <td>84.8</td>\n",
       "      <td>96.7</td>\n",
       "    </tr>\n",
       "    <tr>\n",
       "      <th>5</th>\n",
       "      <td>6</td>\n",
       "      <td>5</td>\n",
       "      <td>Stanford University</td>\n",
       "      <td>US</td>\n",
       "      <td>United States</td>\n",
       "      <td>L</td>\n",
       "      <td>100.0</td>\n",
       "      <td>100.0</td>\n",
       "      <td>100.0</td>\n",
       "      <td>99.0</td>\n",
       "      <td>70.3</td>\n",
       "      <td>60.8</td>\n",
       "      <td>96.8</td>\n",
       "      <td>100.0</td>\n",
       "      <td>81.2</td>\n",
       "      <td>96.1</td>\n",
       "    </tr>\n",
       "    <tr>\n",
       "      <th>6</th>\n",
       "      <td>7</td>\n",
       "      <td>7</td>\n",
       "      <td>ETH Zurich - Swiss Federal Institute of Techno...</td>\n",
       "      <td>CH</td>\n",
       "      <td>Switzerland</td>\n",
       "      <td>L</td>\n",
       "      <td>98.8</td>\n",
       "      <td>87.2</td>\n",
       "      <td>65.9</td>\n",
       "      <td>97.9</td>\n",
       "      <td>100.0</td>\n",
       "      <td>98.6</td>\n",
       "      <td>95.7</td>\n",
       "      <td>90.5</td>\n",
       "      <td>98.8</td>\n",
       "      <td>93.9</td>\n",
       "    </tr>\n",
       "    <tr>\n",
       "      <th>7</th>\n",
       "      <td>8</td>\n",
       "      <td>8</td>\n",
       "      <td>National University of Singapore (NUS)</td>\n",
       "      <td>SG</td>\n",
       "      <td>Singapore</td>\n",
       "      <td>XL</td>\n",
       "      <td>99.5</td>\n",
       "      <td>91.1</td>\n",
       "      <td>68.8</td>\n",
       "      <td>93.1</td>\n",
       "      <td>100.0</td>\n",
       "      <td>88.9</td>\n",
       "      <td>91.6</td>\n",
       "      <td>100.0</td>\n",
       "      <td>97.7</td>\n",
       "      <td>93.7</td>\n",
       "    </tr>\n",
       "    <tr>\n",
       "      <th>8</th>\n",
       "      <td>9</td>\n",
       "      <td>9</td>\n",
       "      <td>UCL</td>\n",
       "      <td>UK</td>\n",
       "      <td>United Kingdom</td>\n",
       "      <td>XL</td>\n",
       "      <td>99.5</td>\n",
       "      <td>98.3</td>\n",
       "      <td>95.9</td>\n",
       "      <td>72.2</td>\n",
       "      <td>99.0</td>\n",
       "      <td>100.0</td>\n",
       "      <td>99.9</td>\n",
       "      <td>70.3</td>\n",
       "      <td>74.8</td>\n",
       "      <td>91.6</td>\n",
       "    </tr>\n",
       "    <tr>\n",
       "      <th>9</th>\n",
       "      <td>10</td>\n",
       "      <td>15</td>\n",
       "      <td>California Institute of Technology (Caltech)</td>\n",
       "      <td>US</td>\n",
       "      <td>United States</td>\n",
       "      <td>S</td>\n",
       "      <td>96.5</td>\n",
       "      <td>95.3</td>\n",
       "      <td>100.0</td>\n",
       "      <td>100.0</td>\n",
       "      <td>100.0</td>\n",
       "      <td>79.8</td>\n",
       "      <td>65.5</td>\n",
       "      <td>31.0</td>\n",
       "      <td>62.5</td>\n",
       "      <td>90.9</td>\n",
       "    </tr>\n",
       "  </tbody>\n",
       "</table>\n",
       "</div>"
      ],
      "text/plain": [
       "  2025 Rank 2024 Rank                                   Institution Name  \\\n",
       "0         1         1       Massachusetts Institute of Technology (MIT)    \n",
       "1         2         6                            Imperial College London   \n",
       "2         3         3                               University of Oxford   \n",
       "3         4         4                                 Harvard University   \n",
       "4         5         2                            University of Cambridge   \n",
       "5         6         5                                Stanford University   \n",
       "6         7         7  ETH Zurich - Swiss Federal Institute of Techno...   \n",
       "7         8         8             National University of Singapore (NUS)   \n",
       "8         9         9                                                UCL   \n",
       "9        10        15       California Institute of Technology (Caltech)   \n",
       "\n",
       "  Location   Location Full Size  Academic Reputation  Employer Reputation  \\\n",
       "0       US   United States    M                100.0                100.0   \n",
       "1       UK  United Kingdom    L                 98.5                 99.5   \n",
       "2       UK  United Kingdom    L                100.0                100.0   \n",
       "3       US   United States    L                100.0                100.0   \n",
       "4       UK  United Kingdom    L                100.0                100.0   \n",
       "5       US   United States    L                100.0                100.0   \n",
       "6       CH     Switzerland    L                 98.8                 87.2   \n",
       "7       SG       Singapore   XL                 99.5                 91.1   \n",
       "8       UK  United Kingdom   XL                 99.5                 98.3   \n",
       "9       US   United States    S                 96.5                 95.3   \n",
       "\n",
       "   Faculty Student  Citations per Faculty  International Faculty  \\\n",
       "0            100.0                  100.0                   99.3   \n",
       "1             98.2                   93.9                  100.0   \n",
       "2            100.0                   84.8                   98.1   \n",
       "3             96.3                  100.0                   74.1   \n",
       "4            100.0                   84.6                  100.0   \n",
       "5            100.0                   99.0                   70.3   \n",
       "6             65.9                   97.9                  100.0   \n",
       "7             68.8                   93.1                  100.0   \n",
       "8             95.9                   72.2                   99.0   \n",
       "9            100.0                  100.0                  100.0   \n",
       "\n",
       "   International Students  International Research Network  \\\n",
       "0                    86.8                            96.0   \n",
       "1                    99.6                            97.4   \n",
       "2                    97.7                           100.0   \n",
       "3                    69.0                            99.6   \n",
       "4                    94.8                            99.3   \n",
       "5                    60.8                            96.8   \n",
       "6                    98.6                            95.7   \n",
       "7                    88.9                            91.6   \n",
       "8                   100.0                            99.9   \n",
       "9                    79.8                            65.5   \n",
       "\n",
       "   Employment Outcomes  Sustainability QS Overall Score  \n",
       "0                100.0            99.0              100  \n",
       "1                 93.4            99.7             98.5  \n",
       "2                100.0            85.0             96.9  \n",
       "3                100.0            84.4             96.8  \n",
       "4                100.0            84.8             96.7  \n",
       "5                100.0            81.2             96.1  \n",
       "6                 90.5            98.8             93.9  \n",
       "7                100.0            97.7             93.7  \n",
       "8                 70.3            74.8             91.6  \n",
       "9                 31.0            62.5             90.9  "
      ]
     },
     "execution_count": 133,
     "metadata": {},
     "output_type": "execute_result"
    }
   ],
   "source": [
    "# Leer el archivo de datos\n",
    "df = pd.read_csv('qs-world-rankings-2025.csv')\n",
    "df.head(10)"
   ]
  },
  {
   "cell_type": "code",
   "execution_count": 134,
   "metadata": {},
   "outputs": [
    {
     "name": "stdout",
     "output_type": "stream",
     "text": [
      "<class 'pandas.core.frame.DataFrame'>\n",
      "RangeIndex: 1503 entries, 0 to 1502\n",
      "Data columns (total 16 columns):\n",
      " #   Column                          Non-Null Count  Dtype  \n",
      "---  ------                          --------------  -----  \n",
      " 0   2025 Rank                       1503 non-null   object \n",
      " 1   2024 Rank                       1482 non-null   object \n",
      " 2   Institution Name                1503 non-null   object \n",
      " 3   Location                        1503 non-null   object \n",
      " 4   Location Full                   1503 non-null   object \n",
      " 5   Size                            1503 non-null   object \n",
      " 6   Academic Reputation             1503 non-null   float64\n",
      " 7   Employer Reputation             1503 non-null   float64\n",
      " 8   Faculty Student                 1503 non-null   float64\n",
      " 9   Citations per Faculty           1503 non-null   float64\n",
      " 10  International Faculty           1403 non-null   float64\n",
      " 11  International Students          1445 non-null   float64\n",
      " 12  International Research Network  1502 non-null   float64\n",
      " 13  Employment Outcomes             1503 non-null   float64\n",
      " 14  Sustainability                  1484 non-null   float64\n",
      " 15  QS Overall Score                1503 non-null   object \n",
      "dtypes: float64(9), object(7)\n",
      "memory usage: 188.0+ KB\n"
     ]
    }
   ],
   "source": [
    "df.info()"
   ]
  },
  {
   "cell_type": "code",
   "execution_count": 135,
   "metadata": {},
   "outputs": [
    {
     "data": {
      "text/html": [
       "<div>\n",
       "<style scoped>\n",
       "    .dataframe tbody tr th:only-of-type {\n",
       "        vertical-align: middle;\n",
       "    }\n",
       "\n",
       "    .dataframe tbody tr th {\n",
       "        vertical-align: top;\n",
       "    }\n",
       "\n",
       "    .dataframe thead th {\n",
       "        text-align: right;\n",
       "    }\n",
       "</style>\n",
       "<table border=\"1\" class=\"dataframe\">\n",
       "  <thead>\n",
       "    <tr style=\"text-align: right;\">\n",
       "      <th></th>\n",
       "      <th>Academic Reputation</th>\n",
       "      <th>Employer Reputation</th>\n",
       "      <th>Faculty Student</th>\n",
       "      <th>Citations per Faculty</th>\n",
       "      <th>International Faculty</th>\n",
       "      <th>International Students</th>\n",
       "      <th>International Research Network</th>\n",
       "      <th>Employment Outcomes</th>\n",
       "      <th>Sustainability</th>\n",
       "    </tr>\n",
       "  </thead>\n",
       "  <tbody>\n",
       "    <tr>\n",
       "      <th>count</th>\n",
       "      <td>1503.00000</td>\n",
       "      <td>1503.000000</td>\n",
       "      <td>1503.000000</td>\n",
       "      <td>1503.000000</td>\n",
       "      <td>1403.000000</td>\n",
       "      <td>1445.000000</td>\n",
       "      <td>1502.000000</td>\n",
       "      <td>1503.000000</td>\n",
       "      <td>1484.000000</td>\n",
       "    </tr>\n",
       "    <tr>\n",
       "      <th>mean</th>\n",
       "      <td>20.28656</td>\n",
       "      <td>19.786693</td>\n",
       "      <td>28.128676</td>\n",
       "      <td>23.503460</td>\n",
       "      <td>30.725374</td>\n",
       "      <td>25.580346</td>\n",
       "      <td>50.129095</td>\n",
       "      <td>23.825083</td>\n",
       "      <td>24.309299</td>\n",
       "    </tr>\n",
       "    <tr>\n",
       "      <th>std</th>\n",
       "      <td>22.32623</td>\n",
       "      <td>23.784986</td>\n",
       "      <td>27.613017</td>\n",
       "      <td>27.870692</td>\n",
       "      <td>34.328935</td>\n",
       "      <td>31.098689</td>\n",
       "      <td>29.866588</td>\n",
       "      <td>27.351315</td>\n",
       "      <td>31.074718</td>\n",
       "    </tr>\n",
       "    <tr>\n",
       "      <th>min</th>\n",
       "      <td>1.30000</td>\n",
       "      <td>1.100000</td>\n",
       "      <td>1.000000</td>\n",
       "      <td>1.000000</td>\n",
       "      <td>1.000000</td>\n",
       "      <td>1.000000</td>\n",
       "      <td>1.000000</td>\n",
       "      <td>1.200000</td>\n",
       "      <td>1.000000</td>\n",
       "    </tr>\n",
       "    <tr>\n",
       "      <th>25%</th>\n",
       "      <td>6.30000</td>\n",
       "      <td>4.300000</td>\n",
       "      <td>7.300000</td>\n",
       "      <td>2.800000</td>\n",
       "      <td>4.200000</td>\n",
       "      <td>2.900000</td>\n",
       "      <td>22.725000</td>\n",
       "      <td>4.000000</td>\n",
       "      <td>1.300000</td>\n",
       "    </tr>\n",
       "    <tr>\n",
       "      <th>50%</th>\n",
       "      <td>11.00000</td>\n",
       "      <td>9.400000</td>\n",
       "      <td>16.000000</td>\n",
       "      <td>9.900000</td>\n",
       "      <td>12.500000</td>\n",
       "      <td>9.600000</td>\n",
       "      <td>51.100000</td>\n",
       "      <td>11.800000</td>\n",
       "      <td>6.750000</td>\n",
       "    </tr>\n",
       "    <tr>\n",
       "      <th>75%</th>\n",
       "      <td>23.50000</td>\n",
       "      <td>25.300000</td>\n",
       "      <td>40.400000</td>\n",
       "      <td>36.400000</td>\n",
       "      <td>51.600000</td>\n",
       "      <td>38.300000</td>\n",
       "      <td>77.100000</td>\n",
       "      <td>33.400000</td>\n",
       "      <td>39.500000</td>\n",
       "    </tr>\n",
       "    <tr>\n",
       "      <th>max</th>\n",
       "      <td>100.00000</td>\n",
       "      <td>100.000000</td>\n",
       "      <td>100.000000</td>\n",
       "      <td>100.000000</td>\n",
       "      <td>100.000000</td>\n",
       "      <td>100.000000</td>\n",
       "      <td>100.000000</td>\n",
       "      <td>100.000000</td>\n",
       "      <td>100.000000</td>\n",
       "    </tr>\n",
       "  </tbody>\n",
       "</table>\n",
       "</div>"
      ],
      "text/plain": [
       "       Academic Reputation  Employer Reputation  Faculty Student  \\\n",
       "count           1503.00000          1503.000000      1503.000000   \n",
       "mean              20.28656            19.786693        28.128676   \n",
       "std               22.32623            23.784986        27.613017   \n",
       "min                1.30000             1.100000         1.000000   \n",
       "25%                6.30000             4.300000         7.300000   \n",
       "50%               11.00000             9.400000        16.000000   \n",
       "75%               23.50000            25.300000        40.400000   \n",
       "max              100.00000           100.000000       100.000000   \n",
       "\n",
       "       Citations per Faculty  International Faculty  International Students  \\\n",
       "count            1503.000000            1403.000000             1445.000000   \n",
       "mean               23.503460              30.725374               25.580346   \n",
       "std                27.870692              34.328935               31.098689   \n",
       "min                 1.000000               1.000000                1.000000   \n",
       "25%                 2.800000               4.200000                2.900000   \n",
       "50%                 9.900000              12.500000                9.600000   \n",
       "75%                36.400000              51.600000               38.300000   \n",
       "max               100.000000             100.000000              100.000000   \n",
       "\n",
       "       International Research Network  Employment Outcomes  Sustainability  \n",
       "count                     1502.000000          1503.000000     1484.000000  \n",
       "mean                        50.129095            23.825083       24.309299  \n",
       "std                         29.866588            27.351315       31.074718  \n",
       "min                          1.000000             1.200000        1.000000  \n",
       "25%                         22.725000             4.000000        1.300000  \n",
       "50%                         51.100000            11.800000        6.750000  \n",
       "75%                         77.100000            33.400000       39.500000  \n",
       "max                        100.000000           100.000000      100.000000  "
      ]
     },
     "execution_count": 135,
     "metadata": {},
     "output_type": "execute_result"
    }
   ],
   "source": [
    "df.describe()"
   ]
  },
  {
   "cell_type": "code",
   "execution_count": 136,
   "metadata": {},
   "outputs": [],
   "source": [
    "#Borrar los datos por debajo del top 500\n",
    "df.drop(df.index[500:], inplace=True)"
   ]
  },
  {
   "cell_type": "code",
   "execution_count": 137,
   "metadata": {},
   "outputs": [],
   "source": [
    "#Converitr las columnas que deberían ser numéricas a valores numéricas\n",
    "df[\"2025 Rank\"] = df[\"2025 Rank\"].str.split(\"-\").str[0].replace(\"+\", \"\")\n",
    "df[\"2025 Rank\"] = pd.to_numeric(df[\"2025 Rank\"])\n",
    "df[\"2024 Rank\"] = df[\"2024 Rank\"].str.replace(\"+\", \"\").str.split(\"-\").str[0]\n",
    "df[\"2024 Rank\"] = pd.to_numeric(df[\"2024 Rank\"])\n",
    "df[\"QS Overall Score\"] = pd.to_numeric(df[\"QS Overall Score\"].replace(\"-\", \"\"))\n"
   ]
  },
  {
   "cell_type": "code",
   "execution_count": 138,
   "metadata": {},
   "outputs": [
    {
     "name": "stdout",
     "output_type": "stream",
     "text": [
      "<class 'pandas.core.frame.DataFrame'>\n",
      "RangeIndex: 500 entries, 0 to 499\n",
      "Data columns (total 16 columns):\n",
      " #   Column                          Non-Null Count  Dtype  \n",
      "---  ------                          --------------  -----  \n",
      " 0   2025 Rank                       500 non-null    int64  \n",
      " 1   2024 Rank                       498 non-null    float64\n",
      " 2   Institution Name                500 non-null    object \n",
      " 3   Location                        500 non-null    object \n",
      " 4   Location Full                   500 non-null    object \n",
      " 5   Size                            500 non-null    object \n",
      " 6   Academic Reputation             500 non-null    float64\n",
      " 7   Employer Reputation             500 non-null    float64\n",
      " 8   Faculty Student                 500 non-null    float64\n",
      " 9   Citations per Faculty           500 non-null    float64\n",
      " 10  International Faculty           497 non-null    float64\n",
      " 11  International Students          498 non-null    float64\n",
      " 12  International Research Network  500 non-null    float64\n",
      " 13  Employment Outcomes             500 non-null    float64\n",
      " 14  Sustainability                  500 non-null    float64\n",
      " 15  QS Overall Score                499 non-null    float64\n",
      "dtypes: float64(11), int64(1), object(4)\n",
      "memory usage: 62.6+ KB\n"
     ]
    }
   ],
   "source": [
    "#Checar que los datos se hayan convertido correctamente\n",
    "df.info()"
   ]
  },
  {
   "cell_type": "code",
   "execution_count": 139,
   "metadata": {},
   "outputs": [
    {
     "data": {
      "text/plain": [
       "<Axes: >"
      ]
     },
     "execution_count": 139,
     "metadata": {},
     "output_type": "execute_result"
    },
    {
     "data": {
      "image/png": "[encoded data removed]",
      "text/plain": [
       "<Figure size 640x480 with 1 Axes>"
      ]
     },
     "metadata": {},
     "output_type": "display_data"
    }
   ],
   "source": [
    "df[\"2025 Rank\"].plot.box()"
   ]
  },
  {
   "cell_type": "code",
   "execution_count": 140,
   "metadata": {},
   "outputs": [
    {
     "data": {
      "text/plain": [
       "<Axes: >"
      ]
     },
     "execution_count": 140,
     "metadata": {},
     "output_type": "execute_result"
    },
    {
     "data": {
      "image/png": "[encoded data removed]",
      "text/plain": [
       "<Figure size 640x480 with 1 Axes>"
      ]
     },
     "metadata": {},
     "output_type": "display_data"
    }
   ],
   "source": [
    "df[\"2024 Rank\"].plot.box()"
   ]
  },
  {
   "cell_type": "code",
   "execution_count": 141,
   "metadata": {},
   "outputs": [
    {
     "data": {
      "text/plain": [
       "<Axes: >"
      ]
     },
     "execution_count": 141,
     "metadata": {},
     "output_type": "execute_result"
    },
    {
     "data": {
      "image/png": "[encoded data removed]",
      "text/plain": [
       "<Figure size 640x480 with 1 Axes>"
      ]
     },
     "metadata": {},
     "output_type": "display_data"
    }
   ],
   "source": [
    "df[\"Academic Reputation\"].plot.box()"
   ]
  },
  {
   "cell_type": "code",
   "execution_count": 142,
   "metadata": {},
   "outputs": [
    {
     "data": {
      "text/plain": [
       "<Axes: >"
      ]
     },
     "execution_count": 142,
     "metadata": {},
     "output_type": "execute_result"
    },
    {
     "data": {
      "image/png": "[encoded data removed]",
      "text/plain": [
       "<Figure size 640x480 with 1 Axes>"
      ]
     },
     "metadata": {},
     "output_type": "display_data"
    }
   ],
   "source": [
    "df[\"Employer Reputation\"].plot.box()"
   ]
  },
  {
   "cell_type": "code",
   "execution_count": 143,
   "metadata": {},
   "outputs": [
    {
     "data": {
      "text/plain": [
       "<Axes: >"
      ]
     },
     "execution_count": 143,
     "metadata": {},
     "output_type": "execute_result"
    },
    {
     "data": {
      "image/png": "[encoded data removed]",
      "text/plain": [
       "<Figure size 640x480 with 1 Axes>"
      ]
     },
     "metadata": {},
     "output_type": "display_data"
    }
   ],
   "source": [
    "df[\"Faculty Student\"].plot.box()"
   ]
  },
  {
   "cell_type": "code",
   "execution_count": 144,
   "metadata": {},
   "outputs": [
    {
     "data": {
      "text/plain": [
       "<Axes: >"
      ]
     },
     "execution_count": 144,
     "metadata": {},
     "output_type": "execute_result"
    },
    {
     "data": {
      "image/png": "[encoded data removed]",
      "text/plain": [
       "<Figure size 640x480 with 1 Axes>"
      ]
     },
     "metadata": {},
     "output_type": "display_data"
    }
   ],
   "source": [
    "df[\"Citations per Faculty\"].plot.box()"
   ]
  },
  {
   "cell_type": "code",
   "execution_count": 145,
   "metadata": {},
   "outputs": [
    {
     "data": {
      "text/plain": [
       "<Axes: >"
      ]
     },
     "execution_count": 145,
     "metadata": {},
     "output_type": "execute_result"
    },
    {
     "data": {
      "image/png": "[encoded data removed]",
      "text/plain": [
       "<Figure size 640x480 with 1 Axes>"
      ]
     },
     "metadata": {},
     "output_type": "display_data"
    }
   ],
   "source": [
    "df[\"International Faculty\"].plot.box()"
   ]
  },
  {
   "cell_type": "code",
   "execution_count": 147,
   "metadata": {},
   "outputs": [
    {
     "data": {
      "text/plain": [
       "<Axes: >"
      ]
     },
     "execution_count": 147,
     "metadata": {},
     "output_type": "execute_result"
    },
    {
     "data": {
      "image/png": "[encoded data removed]",
      "text/plain": [
       "<Figure size 640x480 with 1 Axes>"
      ]
     },
     "metadata": {},
     "output_type": "display_data"
    }
   ],
   "source": [
    "df[\"International Students\"].plot.box()"
   ]
  },
  {
   "cell_type": "code",
   "execution_count": 148,
   "metadata": {},
   "outputs": [
    {
     "data": {
      "text/plain": [
       "<Axes: >"
      ]
     },
     "execution_count": 148,
     "metadata": {},
     "output_type": "execute_result"
    },
    {
     "data": {
      "image/png": "[encoded data removed]",
      "text/plain": [
       "<Figure size 640x480 with 1 Axes>"
      ]
     },
     "metadata": {},
     "output_type": "display_data"
    }
   ],
   "source": [
    "df[\"International Research Network\"].plot.box()"
   ]
  },
  {
   "cell_type": "code",
   "execution_count": 149,
   "metadata": {},
   "outputs": [
    {
     "data": {
      "text/plain": [
       "<Axes: >"
      ]
     },
     "execution_count": 149,
     "metadata": {},
     "output_type": "execute_result"
    },
    {
     "data": {
      "image/png": "[encoded data removed]",
      "text/plain": [
       "<Figure size 640x480 with 1 Axes>"
      ]
     },
     "metadata": {},
     "output_type": "display_data"
    }
   ],
   "source": [
    "df[\"Employment Outcomes\"].plot.box()"
   ]
  },
  {
   "cell_type": "code",
   "execution_count": 150,
   "metadata": {},
   "outputs": [
    {
     "data": {
      "text/plain": [
       "<Axes: >"
      ]
     },
     "execution_count": 150,
     "metadata": {},
     "output_type": "execute_result"
    },
    {
     "data": {
      "image/png": "[encoded data removed]",
      "text/plain": [
       "<Figure size 640x480 with 1 Axes>"
      ]
     },
     "metadata": {},
     "output_type": "display_data"
    }
   ],
   "source": [
    "df[\"Sustainability\"].plot.box()"
   ]
  },
  {
   "cell_type": "code",
   "execution_count": 151,
   "metadata": {},
   "outputs": [
    {
     "data": {
      "text/plain": [
       "<Axes: >"
      ]
     },
     "execution_count": 151,
     "metadata": {},
     "output_type": "execute_result"
    },
    {
     "data": {
      "image/png": "[encoded data removed]",
      "text/plain": [
       "<Figure size 640x480 with 1 Axes>"
      ]
     },
     "metadata": {},
     "output_type": "display_data"
    }
   ],
   "source": [
    "df[\"QS Overall Score\"].plot.box()"
   ]
  },
  {
   "cell_type": "code",
   "execution_count": 152,
   "metadata": {},
   "outputs": [],
   "source": [
    "#Quitamos espacios y saltos de línea de las columnas de texto\n",
    "columnas = [\"Institution Name\", \"Location\", \"Location Full\", \"Size\"]\n",
    "for col in columnas:\n",
    "  df[col] = df[col].str.strip().str.replace(\"\\n\", \" \")"
   ]
  },
  {
   "cell_type": "code",
   "execution_count": 153,
   "metadata": {},
   "outputs": [
    {
     "data": {
      "text/html": [
       "<div>\n",
       "<style scoped>\n",
       "    .dataframe tbody tr th:only-of-type {\n",
       "        vertical-align: middle;\n",
       "    }\n",
       "\n",
       "    .dataframe tbody tr th {\n",
       "        vertical-align: top;\n",
       "    }\n",
       "\n",
       "    .dataframe thead th {\n",
       "        text-align: right;\n",
       "    }\n",
       "</style>\n",
       "<table border=\"1\" class=\"dataframe\">\n",
       "  <thead>\n",
       "    <tr style=\"text-align: right;\">\n",
       "      <th></th>\n",
       "      <th>2025 Rank</th>\n",
       "      <th>2024 Rank</th>\n",
       "      <th>Institution Name</th>\n",
       "      <th>Location</th>\n",
       "      <th>Location Full</th>\n",
       "      <th>Size</th>\n",
       "      <th>Academic Reputation</th>\n",
       "      <th>Employer Reputation</th>\n",
       "      <th>Faculty Student</th>\n",
       "      <th>Citations per Faculty</th>\n",
       "      <th>International Faculty</th>\n",
       "      <th>International Students</th>\n",
       "      <th>International Research Network</th>\n",
       "      <th>Employment Outcomes</th>\n",
       "      <th>Sustainability</th>\n",
       "      <th>QS Overall Score</th>\n",
       "    </tr>\n",
       "  </thead>\n",
       "  <tbody>\n",
       "  </tbody>\n",
       "</table>\n",
       "</div>"
      ],
      "text/plain": [
       "Empty DataFrame\n",
       "Columns: [2025 Rank, 2024 Rank, Institution Name, Location, Location Full, Size, Academic Reputation, Employer Reputation, Faculty Student, Citations per Faculty, International Faculty, International Students, International Research Network, Employment Outcomes, Sustainability, QS Overall Score]\n",
       "Index: []"
      ]
     },
     "execution_count": 153,
     "metadata": {},
     "output_type": "execute_result"
    }
   ],
   "source": [
    "#Checar si hay datos duplicados\n",
    "df[df.duplicated()]"
   ]
  },
  {
   "cell_type": "code",
   "execution_count": 154,
   "metadata": {},
   "outputs": [
    {
     "data": {
      "text/plain": [
       "2025 Rank                         0\n",
       "2024 Rank                         2\n",
       "Institution Name                  0\n",
       "Location                          0\n",
       "Location Full                     0\n",
       "Size                              0\n",
       "Academic Reputation               0\n",
       "Employer Reputation               0\n",
       "Faculty Student                   0\n",
       "Citations per Faculty             0\n",
       "International Faculty             3\n",
       "International Students            2\n",
       "International Research Network    0\n",
       "Employment Outcomes               0\n",
       "Sustainability                    0\n",
       "QS Overall Score                  1\n",
       "dtype: int64"
      ]
     },
     "execution_count": 154,
     "metadata": {},
     "output_type": "execute_result"
    }
   ],
   "source": [
    "#Checar si hay datos faltantes\n",
    "df.isna().sum()"
   ]
  },
  {
   "cell_type": "code",
   "execution_count": 158,
   "metadata": {},
   "outputs": [],
   "source": [
    "#Quitamos la fila en la que no hay datos de QS Overall Score\n",
    "df.dropna(subset=[\"QS Overall Score\"], inplace=True)\n",
    "#Imputamos los valores faltantes de las columnas numéricas con la mediana\n",
    "df = df.fillna({\n",
    "     \"International Faculty\": df[\"International Faculty\"].median(),\n",
    "     \"International Students\": df[\"International Students\"].median(),\n",
    "     # Al no tener valor decidimos ponerlos en 0\n",
    "     \"2024 Rank\": 0\n",
    "})"
   ]
  },
  {
   "cell_type": "code",
   "execution_count": 159,
   "metadata": {},
   "outputs": [
    {
     "data": {
      "text/plain": [
       "2025 Rank                         0\n",
       "2024 Rank                         0\n",
       "Institution Name                  0\n",
       "Location                          0\n",
       "Location Full                     0\n",
       "Size                              0\n",
       "Academic Reputation               0\n",
       "Employer Reputation               0\n",
       "Faculty Student                   0\n",
       "Citations per Faculty             0\n",
       "International Faculty             0\n",
       "International Students            0\n",
       "International Research Network    0\n",
       "Employment Outcomes               0\n",
       "Sustainability                    0\n",
       "QS Overall Score                  0\n",
       "dtype: int64"
      ]
     },
     "execution_count": 159,
     "metadata": {},
     "output_type": "execute_result"
    }
   ],
   "source": [
    "#Checar que ya no haya datos faltantes\n",
    "df.isna().sum()"
   ]
  },
  {
   "cell_type": "code",
   "execution_count": 160,
   "metadata": {},
   "outputs": [],
   "source": [
    "df.to_csv(\"qs-world-rankings-2025_clean.csv\", index=False)"
   ]
  }
 ],
 "metadata": {
  "kernelspec": {
   "display_name": ".venv",
   "language": "python",
   "name": "python3"
  },
  "language_info": {
   "codemirror_mode": {
    "name": "ipython",
    "version": 3
   },
   "file_extension": ".py",
   "mimetype": "text/x-python",
   "name": "python",
   "nbconvert_exporter": "python",
   "pygments_lexer": "ipython3",
   "version": "3.12.4"
  }
 },
 "nbformat": 4,
 "nbformat_minor": 2
}
